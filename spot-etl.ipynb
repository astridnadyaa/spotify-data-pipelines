{
 "cells": [
  {
   "cell_type": "code",
   "execution_count": 7,
   "id": "8a4bf80d",
   "metadata": {},
   "outputs": [],
   "source": [
    "# Import libraries\n",
    "import os, requests\n",
    "from dotenv import load_dotenv\n",
    "\n",
    "# Load environment variables from .env file\n",
    "load_dotenv()\n",
    "\n",
    "# Setup API credentials\n",
    "SPOTIFY_CLIENT_ID = os.getenv(\"SPOTIFY_CLIENT_ID\")\n",
    "SPOTIFY_CLIENT_SECRET = os.getenv(\"SPOTIFY_CLIENT_SECRET\")"
   ]
  },
  {
   "cell_type": "code",
   "execution_count": 8,
   "id": "9acd9c69",
   "metadata": {},
   "outputs": [],
   "source": [
    "def get_token():\n",
    "    \"\"\"\n",
    "    Get a token from the Spotify API using client credentials.\n",
    "    \"\"\"\n",
    "    # Request a token from the Spotify API\n",
    "    url = \"https://accounts.spotify.com/api/token\"\n",
    "    payload = {\"grant_type\": \"client_credentials\"}\n",
    "    response = requests.post(url, data=payload, auth=(SPOTIFY_CLIENT_ID, SPOTIFY_CLIENT_SECRET))\n",
    "    response.raise_for_status()\n",
    "    return response.json()[\"access_token\"]"
   ]
  },
  {
   "cell_type": "code",
   "execution_count": null,
   "id": "4009629d",
   "metadata": {},
   "outputs": [],
   "source": []
  }
 ],
 "metadata": {
  "kernelspec": {
   "display_name": "Python 3",
   "language": "python",
   "name": "python3"
  },
  "language_info": {
   "codemirror_mode": {
    "name": "ipython",
    "version": 3
   },
   "file_extension": ".py",
   "mimetype": "text/x-python",
   "name": "python",
   "nbconvert_exporter": "python",
   "pygments_lexer": "ipython3",
   "version": "3.11.5"
  }
 },
 "nbformat": 4,
 "nbformat_minor": 5
}
