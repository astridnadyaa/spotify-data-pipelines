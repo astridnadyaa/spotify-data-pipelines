{
 "cells": [
  {
   "cell_type": "code",
   "execution_count": 4,
   "id": "53735fca",
   "metadata": {},
   "outputs": [],
   "source": [
    "# install dependencies\n",
    "#pip install requests pandas sqlalchemy spotipy python-dotenv\n"
   ]
  },
  {
   "cell_type": "code",
   "execution_count": 5,
   "id": "f0fbe3a5",
   "metadata": {},
   "outputs": [],
   "source": [
    "import os, requests\n",
    "from dotenv import load_dotenv \n",
    "\n",
    "load_dotenv() \n",
    "CLIENT_ID = os.getenv('SPOTIFY_CLIENT_ID')\n",
    "CLIENT_SECRET = os.getenv('SPOTIFY_CLIENT_SECRET')\n"
   ]
  },
  {
   "cell_type": "markdown",
   "id": "4dae9d66",
   "metadata": {},
   "source": []
  },
  {
   "cell_type": "code",
   "execution_count": null,
   "id": "07020b01",
   "metadata": {},
   "outputs": [],
   "source": []
  }
 ],
 "metadata": {
  "kernelspec": {
   "display_name": "Python 3",
   "language": "python",
   "name": "python3"
  },
  "language_info": {
   "codemirror_mode": {
    "name": "ipython",
    "version": 3
   },
   "file_extension": ".py",
   "mimetype": "text/x-python",
   "name": "python",
   "nbconvert_exporter": "python",
   "pygments_lexer": "ipython3",
   "version": "3.11.5"
  }
 },
 "nbformat": 4,
 "nbformat_minor": 5
}
